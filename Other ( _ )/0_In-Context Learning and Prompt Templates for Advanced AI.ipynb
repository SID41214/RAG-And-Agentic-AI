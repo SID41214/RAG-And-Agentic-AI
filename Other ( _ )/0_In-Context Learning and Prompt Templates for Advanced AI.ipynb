{
 "cells": [
  {
   "cell_type": "markdown",
   "id": "c6d8f75b-6106-4e40-819f-8c21b9e4ce81",
   "metadata": {},
   "source": [
    "# Master Prompt Engineering and LangChain PromptTemplates\n"
   ]
  },
  {
   "cell_type": "markdown",
   "id": "7976f3f9-308a-4edf-a789-4447172ce0d5",
   "metadata": {},
   "source": [
    "## Overview\n"
   ]
  },
  {
   "cell_type": "markdown",
   "id": "c3827f03-c527-4c96-9921-b98700f1cc45",
   "metadata": {},
   "source": [
    "You're stepping into the world of prompt engineering, where each command you craft has the power to guide intelligent LLM systems toward specific outcomes. In this tutorial, you will explore the foundational aspects of prompt engineering, dive into advanced in-context learning techniques such as few-shot and self-consistent learning, and learn how to effectively use tools like LangChain to create prompt templates.\n",
    "\n",
    "Creating sophisticated applications like QA bots and text summarization tools. By using LangChain prompt templates, you'll see firsthand how structured prompting can streamline the development of these applications, transforming complex requirements into clear, concise tasks for AI.\n"
   ]
  },
  {
   "cell_type": "markdown",
   "id": "d701fe18-b99b-4954-b232-2582c796009e",
   "metadata": {},
   "source": [
    "<img src=\"https://cf-courses-data.s3.us.cloud-object-storage.appdomain.cloud/ai8G4tOU4mksEYfv5wsghA/prompt%20engineering.png\" width=\"50%\" alt=\"indexing\"/>\n"
   ]
  },
  {
   "cell_type": "markdown",
   "id": "a129d2a0-d9a4-4450-bc7e-213960b2e636",
   "metadata": {},
   "source": [
    "By the end of this tutorial, you'll not only master various prompt engineering techniques but also gain hands-on experience applying these techniques to real-world problems, ensuring you're well-prepared to harness the full potential of AI in diverse settings.\n"
   ]
  },
  {
   "cell_type": "markdown",
   "id": "68e87583-8f8b-4919-ad70-f9960b122bba",
   "metadata": {},
   "source": [
    "## __Table of Contents__\n",
    "\n",
    "<ol>\n",
    "    <li><a href=\"#Objectives\">Objectives</a></li>\n",
    "    <li>\n",
    "        <a href=\"#Setup\">Setup</a>\n",
    "        <ol>\n",
    "            <li><a href=\"#Install-required-libraries\">Install required libraries</a></li>\n",
    "            <li><a href=\"#Import-required-libraries\">Import required libraries</a></li>\n",
    "            <li><a href=\"#Set-up-the-LLM\">Set up the LLM</a></li>\n",
    "        </ol>\n",
    "    </li>\n",
    "    <li>\n",
    "        <a href=\"#Prompt-engineering\">Prompt engineering</a>\n",
    "        <ol>\n",
    "            <li>\n",
    "                <a href=\"#Basic-prompt\">Basic prompt</a>\n",
    "                <ol>\n",
    "                    <li><a href=\"#Exercise-1\">Exercise 1</a></li>\n",
    "                </ol>\n",
    "            </li>\n",
    "            <li>\n",
    "                <a href=\"#Zero-shot-prompt\">Zero-shot prompt</a>\n",
    "                <ol>\n",
    "                    <li><a href=\"#Exercise-2\">Exercise 2</a></li>\n",
    "                </ol>\n",
    "            </li>\n",
    "            <li>\n",
    "                <a href=\"#One-shot-prompt\">One-shot prompt</a>\n",
    "                <ol>\n",
    "                    <li><a href=\"#Exercise-3\">Exercise 3</a></li>\n",
    "                </ol>\n",
    "            </li>\n",
    "            <li><a href=\"#Few-shot-prompt\">Few-shot prompt</a></li>\n",
    "            <li>\n",
    "                <a href=\"#Chain-of-thought-(CoT)-prompt\">Chain-of-thought (CoT) prompt</a>\n",
    "                <ol>\n",
    "                    <li><a href=\"#Exercise-4\">Exercise 4</a></li>\n",
    "                </ol>\n",
    "            </li>\n",
    "            <li><a href=\"#Self-consistency\">Self-consistency</a></li>\n",
    "        </ol>\n",
    "    </li>\n",
    "    <li>\n",
    "        <a href=\"#Applications-of-prompting-in-different-use-cases\">Applications of prompting in different use cases</a>\n",
    "        <ol>\n",
    "            <li><a href=\"#Introduction-to-LangChain\">Introduction to LangChain</a></li>\n",
    "            <li><a href=\"#Prompt-template\">Prompt template</a></li>\n",
    "            <li><a href=\"#Text-summarization\">Text summarization</a></li>\n",
    "            <li><a href=\"#Question-answering\">Question answering</a></li>\n",
    "            <li><a href=\"#Text-classification\">Text classification</a></li>\n",
    "            <li><a href=\"#Code-generation\">Code generation</a></li>\n",
    "            <li><a href=\"#Role-playing\">Role playing</a></li>\n",
    "            <li><a href=\"#Exercise-5\">Exercise 5</a></li>\n",
    "        </ol>\n",
    "    </li>\n",
    "    <li><a href=\"#Conclusion\">Conclusion</a></li>\n",
    "    \n",
    "</ol>\n"
   ]
  },
  {
   "cell_type": "markdown",
   "id": "cecf32e4-31af-4a38-b21e-88e43075c9c2",
   "metadata": {},
   "source": [
    "## Objectives\n",
    "\n",
    "\n",
    "\n",
    "- **Understand the basics of prompt engineering**: Gain a solid foundation in how to effectively communicate with LLM using prompts, setting the stage for more advanced techniques.\n",
    "\n",
    "- **Master advanced prompt techniques**: Learn and apply advanced prompt engineering methods such as few-shot and self-consistent learning to optimize the LLM's response.\n",
    "\n",
    "- **Utilize LangChain prompt templates**: Become proficient in using LangChain's prompt template to structure and optimize your interactions with LLMs.\n",
    "\n",
    "- **Develop practical LLM agents**: Acquire the skills to create and implement agents such as QA bots and text summarization tools using the LangChain prompt template, translating theoretical knowledge into practical solutions.\n"
   ]
  },
  {
   "cell_type": "markdown",
   "id": "1876217d-f838-4b31-a352-1b53afab5253",
   "metadata": {},
   "source": [
    "----\n"
   ]
  },
  {
   "cell_type": "markdown",
   "id": "84f331cd-4498-4d37-bc56-392a2b7dafa5",
   "metadata": {},
   "source": [
    "## Setup\n"
   ]
  },
  {
   "cell_type": "markdown",
   "id": "bf5fbc64-eb22-4ed7-a81d-dc89bfc308fc",
   "metadata": {},
   "source": [
    "For this lab, you will use the following libraries:\n",
    "\n",
    "*   [`ibm-watsonx-ai`](https://ibm.github.io/watson-machine-learning-sdk/index.html): Enables the use of LLMs from IBM's watsonx.ai.\n",
    "*   [`langchain`](https://www.langchain.com/): Provides various chain and prompt functions from LangChain.\n",
    "*   [`langchain-ibm`](https://python.langchain.com/v0.1/docs/integrations/llms/ibm_watsonx/): Facilitates integration between LangChain and IBM watsonx.ai.\n"
   ]
  },
  {
   "cell_type": "markdown",
   "id": "76eefd40-e688-4d9d-bcf8-ed0eb22e6735",
   "metadata": {},
   "source": [
    "### Install required libraries\n",
    "\n",
    "The following required libraries are __not__ preinstalled in the Skills Network Labs environment. __You must run the following cell__ to install them:\n",
    "\n",
    "**Note:** The version has been pinned to ensure compatibility. It's recommended that you do the same. While future updates may be available, the pinned version ensures that the library continues to support this lab.\n",
    "\n",
    "This might take approximately 1-2 minutes.\n",
    "\n",
    "`%%capture` has been used to capture the installation, so you won’t see the process. However, once the installation is complete, a number will appear next to the cell.\n"
   ]
  },
  {
   "cell_type": "code",
   "execution_count": null,
   "id": "d8be469e-9505-494c-a4e0-d6aeaddab50e",
   "metadata": {},
   "outputs": [],
   "source": [
    "%%capture\n",
    "!pip install \"ibm-watsonx-ai==1.0.8\" --user\n",
    "!pip install \"langchain==0.2.11\" --user\n",
    "!pip install \"langchain-ibm==0.1.7\" --user\n",
    "!pip install \"langchain-core==0.2.43\" --user"
   ]
  },
  {
   "cell_type": "markdown",
   "id": "05530062-5d10-4255-8a68-9b47f49114e8",
   "metadata": {},
   "source": [
    "After you install the libraries, restart your kernel:\n"
   ]
  },
  {
   "cell_type": "code",
   "execution_count": null,
   "id": "c1dff96d-c97d-4867-8880-89986dca084b",
   "metadata": {},
   "outputs": [],
   "source": [
    "import os\n",
    "os._exit(00)"
   ]
  },
  {
   "cell_type": "markdown",
   "id": "bfef9d83-120a-446c-befb-51e014a4aa8e",
   "metadata": {},
   "source": [
    "**ATTENTION**: if the code above doesn't work, you can restart the kernal manuallu by clicking the **Restart the kernel** icon as shown in the following screenshot:\n"
   ]
  },
  {
   "cell_type": "markdown",
   "id": "f7ffeca6-2124-4160-b8d6-635ee8ae2bad",
   "metadata": {},
   "source": [
    "Once the kernel has been restarted, move on to the next part `Import required libraries`.\n"
   ]
  },
  {
   "cell_type": "markdown",
   "id": "aeeb4c95-1e11-4e5b-9589-f01f48dab990",
   "metadata": {},
   "source": [
    "### Import required libraries\n"
   ]
  },
  {
   "cell_type": "markdown",
   "id": "3b918f25-2932-4200-875d-b9145ae2f0c9",
   "metadata": {},
   "source": [
    "_It is recommended that you import all required libraries in one place (here):_\n"
   ]
  },
  {
   "cell_type": "code",
   "execution_count": null,
   "id": "3b90dcca-bed8-4c27-b593-b2ba8a9381d6",
   "metadata": {},
   "outputs": [],
   "source": [
    "# You can also use this section to suppress warnings generated by your code:\n",
    "def warn(*args, **kwargs):\n",
    "    pass\n",
    "import warnings\n",
    "warnings.warn = warn\n",
    "warnings.filterwarnings('ignore')\n",
    "\n",
    "# IBM WatsonX imports\n",
    "from ibm_watsonx_ai.foundation_models import Model\n",
    "from ibm_watsonx_ai.metanames import GenTextParamsMetaNames as GenParams\n",
    "from ibm_watsonx_ai.foundation_models.utils.enums import ModelTypes\n",
    "\n",
    "from langchain_ibm import WatsonxLLM\n",
    "from langchain_core.prompts import PromptTemplate, ChatPromptTemplate\n",
    "from langchain_core.output_parsers import StrOutputParser\n",
    "from langchain_core.runnables import RunnablePassthrough, RunnableSequence\n",
    "from langchain_core.messages import HumanMessage, SystemMessage\n",
    "from langchain.chains import LLMChain  # Still using this for backward compatibility"
   ]
  },
  {
   "cell_type": "markdown",
   "id": "cf3443b6-6e39-4200-b571-b57f8600524b",
   "metadata": {},
   "source": [
    "### Set up the LLM\n"
   ]
  },
  {
   "cell_type": "markdown",
   "id": "bf725476-58df-4854-be4f-9757e08d5821",
   "metadata": {},
   "source": [
    "In this section, you will build an LLM using IBM watsonx.ai. The following code initializes a Granite model on IBM's watsonx.ai platform and wraps it into a function that allows for repeat use.\n"
   ]
  },
  {
   "cell_type": "markdown",
   "id": "3d38ef89-8e3f-44d4-88e9-a85093cb7112",
   "metadata": {},
   "source": [
    "Some key parameters are explained here:\n",
    "- `model_id` specifies which model you want to use. There are various model options available; refer to the [Foundation Models](https://ibm.github.io/watsonx-ai-python-sdk/foundation_models.html) documentation for more options. In this tutorial, you'll use the `granite-3-2-8b-instruct` model.\n",
    "- `parameters` define the model's configuration. Set five commonly used parameters for this tutorial. To explore additional commonly used parameters, you can run the code `GenParams().get_example_values()`. If no custom parameters are passed to the function, the model will use `default_params`.\n",
    "- `credentials` and `project_id` are required to successfully run LLMs from watsonx.ai. (Leave `credentials` and `project_id` as they are so you don't need to create your own keys to run models.) This ensures you can run the model inside this lab environment. However, if you want to run the model locally, refer to this [tutorial](https://medium.com/the-power-of-ai/ibm-watsonx-ai-the-interface-and-api-e8e1c7227358) for creating your own keys.\n",
    "- `WatsonxLLM()` is used to create an instance of the LLM.\n"
   ]
  },
  {
   "cell_type": "markdown",
   "id": "cff19de1-28ab-4109-8cf3-2ea8ce016e33",
   "metadata": {},
   "source": [
    "## API Disclaimer\n",
    "This lab uses LLMs provided by **Watsonx.ai**. This environment has been configured to allow LLM use without API keys so you can prompt them for **free (with limitations)**. With that in mind, if you wish to run this notebook **locally outside** of Skills Network's JupyterLab environment, you will have to **configure your own API keys**. Please note that using your own API keys means that you will incur personal charges.\n",
    "\n",
    "### Running Locally\n",
    "If you are running this lab locally, you will need to configure your own API keys. This lab uses the `WatsonxLLM` module from `IBM`, we'll need to initialize the `granite_llm` with credentials to use the LLM locally. Fill out the commented out `api_key` field in the cell below and pass in the credentials if you are running locally.\n"
   ]
  },
  {
   "cell_type": "markdown",
   "id": "f2b4c1eb-2b79-4ae7-b978-a2a3640ee111",
   "metadata": {},
   "source": [
    "##### Run the following code to initialize the LLM locally. If you are using Skills Network's JupyterLab environment, skip the following cell code.\n"
   ]
  },
  {
   "cell_type": "code",
   "execution_count": null,
   "id": "325c0ebe-96ba-4809-80d8-88835ba13740",
   "metadata": {},
   "outputs": [],
   "source": [
    "def llm_model(prompt_txt, params=None):\n",
    "    \n",
    "    model_id = \"ibm/granite-3-2-8b-instruct\"\n",
    "\n",
    "    default_params = {\n",
    "        \"max_new_tokens\": 256,\n",
    "        \"min_new_tokens\": 0,\n",
    "        \"temperature\": 0.5,\n",
    "        \"top_p\": 0.2,\n",
    "        \"top_k\": 1\n",
    "    }\n",
    "\n",
    "    if params:\n",
    "        default_params.update(params)\n",
    "\n",
    "    # Set up credentials for WatsonxLLM\n",
    "    url = \"https://us-south.ml.cloud.ibm.com\"\n",
    "    api_key = \"your api key here\"\n",
    "    project_id = \"skills-network\"\n",
    "\n",
    "    credentials = {\n",
    "        \"url\": url,\n",
    "        # \"api_key\": api_key\n",
    "        # uncomment the field above and replace the api_key with your actual Watsonx API key\n",
    "    }\n",
    "    \n",
    "    # Create LLM directly\n",
    "    granite_llm = WatsonxLLM(\n",
    "        model_id=model_id,\n",
    "        credentials=credentials,\n",
    "        project_id=project_id,\n",
    "        params=default_params\n",
    "    )\n",
    "    \n",
    "    response = granite_llm.invoke(prompt_txt)\n",
    "    return response"
   ]
  },
  {
   "cell_type": "markdown",
   "id": "0240473a-83a4-4c47-ba75-b3275c74bb96",
   "metadata": {},
   "source": [
    "##### Run the following code to initialize the LLM using Skills Network's JupyterLab environment\n"
   ]
  },
  {
   "cell_type": "code",
   "execution_count": null,
   "id": "2c98d29f-7a2b-43bf-897b-c960c02f8cfd",
   "metadata": {},
   "outputs": [],
   "source": [
    "def llm_model(prompt_txt, params=None):\n",
    "    \n",
    "    model_id = \"ibm/granite-3-2-8b-instruct\"\n",
    "\n",
    "    default_params = {\n",
    "        \"max_new_tokens\": 256,\n",
    "        \"min_new_tokens\": 0,\n",
    "        \"temperature\": 0.5,\n",
    "        \"top_p\": 0.2,\n",
    "        \"top_k\": 1\n",
    "    }\n",
    "\n",
    "    url = \"https://us-south.ml.cloud.ibm.com\"\n",
    "    project_id = \"skills-network\"\n",
    "    \n",
    "    granite_llm = WatsonxLLM(\n",
    "        model_id=model_id,\n",
    "        project_id=project_id,\n",
    "        url=url,\n",
    "        params=default_params\n",
    "    )\n",
    "    \n",
    "    response = granite_llm.invoke(prompt_txt)\n",
    "    return response\n"
   ]
  },
  {
   "cell_type": "markdown",
   "id": "24f12ecc-0742-4f63-bbd4-163eff198e21",
   "metadata": {},
   "source": [
    "Let's run the following code to see some other commonly used parameters and their default values.\n"
   ]
  },
  {
   "cell_type": "code",
   "execution_count": null,
   "id": "ec16e702-a9a8-48e6-8266-2552a0fd0efc",
   "metadata": {},
   "outputs": [],
   "source": [
    "GenParams().get_example_values()"
   ]
  },
  {
   "cell_type": "markdown",
   "id": "8ee02ffa-f459-40e4-ae02-4380c9e3bac4",
   "metadata": {},
   "source": [
    "## Prompt engineering\n",
    "\n",
    "[Prompt engineering](https://www.ibm.com/think/topics/prompt-engineering?utm_source=skills_network&utm_content=in_lab_content_link&utm_id=Lab-In-Context+Learning+and+Prompt+Templates-v3-GenAIcourse_1741386184) is the art and science of crafting effective inputs for large language models to generate desired outputs. As language models have evolved in capability and size, so too has the importance of how we communicate with them. Prompt engineering involves strategically designing text prompts that guide an AI model's responses toward specific goals, formats, or reasoning patterns.\n",
    "\n",
    "**[In-context learning](https://research.ibm.com/blog/demystifying-in-context-learning-in-large-language-model?utm_source=skills_network&utm_content=in_lab_content_link&utm_id=Lab-In-Context+Learning+and+Prompt+Templates-v3-GenAIcourse_1741386184)** represents one of the most fascinating capabilities of modern large language models. It is a model's ability to \"learn\" from examples provided directly within the prompt itself, without any updates to its underlying parameters or weights. This capability allows models to adapt to new tasks or domains simply by demonstrating what success looks like through examples.\n",
    "\n",
    "By combining the principles of prompt engineering with the power of in-context learning, developers can guide language models to perform a remarkably diverse range of tasks with unprecedented flexibility and efficiency. Let's now explore these methods in detail.\n"
   ]
  },
  {
   "cell_type": "markdown",
   "id": "64a364b4-0edd-43a4-a942-924f3f472dcb",
   "metadata": {},
   "source": [
    "### Basic prompt\n",
    "\n",
    "A **basic prompt** is the simplest form of prompting, where you provide a short text or phrase to the model without any special formatting or instructions. The model generates a continuation based on patterns it has learned during training. Basic prompts are useful for exploring the model's capabilities and understanding how it naturally responds to minimal input.\n"
   ]
  },
  {
   "cell_type": "markdown",
   "id": "73f7b516-148e-4ae6-92ca-c62ea8cf2a5a",
   "metadata": {},
   "source": [
    "In this example, let's introduce a basic prompt that uses specific parameters to guide the language model's response. You'll then define a simple prompt and retrieve the model's response.\n",
    "\n",
    "The prompt used is \"The wind is.\" Let the model generate itself.\n"
   ]
  },
  {
   "cell_type": "code",
   "execution_count": null,
   "id": "22857516-f8e6-4250-9ed4-21dc29a6fb4a",
   "metadata": {},
   "outputs": [],
   "source": [
    "params = {\n",
    "    \"max_new_tokens\": 128,\n",
    "    \"min_new_tokens\": 10,\n",
    "    \"temperature\": 0.5,\n",
    "    \"top_p\": 0.2,\n",
    "    \"top_k\": 1\n",
    "}\n",
    "\n",
    "prompt = \"The wind is \"\n",
    "\n",
    "# Getting a reponse from the model with the provided prompt and new parameters\n",
    "response = llm_model(prompt, params)\n",
    "print(f\"prompt: {prompt}\\n\")\n",
    "print(f\"response : {response}\\n\")"
   ]
  },
  {
   "cell_type": "markdown",
   "id": "5bbc518c-75b7-4b95-b841-4e30772fb124",
   "metadata": {},
   "source": [
    "As you can see from the response, the model continues generating content based on the initial prompt, \"The wind is.\" You might notice that the response appears truncated or incomplete. This is because you have set the `max_new_tokens,` which restricts the number of tokens the model can generate.\n",
    "\n",
    "Try adjusting the parameters and observe how the response changes.\n"
   ]
  },
  {
   "cell_type": "markdown",
   "id": "c13a4151-50fa-42d6-a3c2-a43f5192e63b",
   "metadata": {},
   "source": [
    "### Exercise 1\n",
    "Experiment with different basic prompts by changing the input phrase. Try these prompts and compare the different responses:\n",
    "1. \"The future of artificial intelligence is\"\n",
    "2. \"Once upon a time in a distant galaxy\"\n",
    "3. \"The benefits of sustainable energy include\"\n"
   ]
  },
  {
   "cell_type": "code",
   "execution_count": null,
   "id": "93f8e2fd-263c-4b96-a232-e522d82792a9",
   "metadata": {},
   "outputs": [],
   "source": [
    "## Your code here"
   ]
  },
  {
   "cell_type": "markdown",
   "id": "7bdd4ef1-c8f7-4991-8c0c-e58d561e4001",
   "metadata": {},
   "source": [
    "<details>\n",
    "    <summary>Click here for hints</summary>\n",
    "\n",
    "```python\n",
    "params = {\n",
    "    \"max_new_tokens\": 128, # Try 256 or 512 for more detailed answers\n",
    "    \"min_new_tokens\": 10, # Increase to 25-50 if you want more substantial answers\n",
    "    \"temperature\": 0.5, # Controls randomness in generation (0.0-1.0)\n",
    "                       # Lower (0.1-0.3): More focused, consistent, factual responses\n",
    "                      # Higher (0.7-1.0): More creative, diverse, unpredictable outputs\n",
    "    \"top_p\": 0.2, # Nucleus sampling - considers only highest probability tokens\n",
    "                       # Lower values (0.1-0.3): More conservative, focused text\n",
    "                       # Higher values (0.7-0.9): More diverse vocabulary and ideas\n",
    "    \"top_k\": 1 # Limits token selection to top k most likely tokens\n",
    "                       # 1 = greedy decoding (always picks most likely token)\n",
    "                       # Try 40-50 for more varied outputs\n",
    "}\n",
    "\n",
    "# Compare responses to different prompts\n",
    "prompts = [\n",
    "    \"The future of artificial intelligence is\",\n",
    "    \"Once upon a time in a distant galaxy\",\n",
    "    \"The benefits of sustainable energy include\"\n",
    "]\n",
    "\n",
    "for prompt in prompts:\n",
    "    response = llm_model(prompt, params)\n",
    "    print(f\"prompt: {prompt}\\n\")\n",
    "    print(f\"response : {response}\\n\")\n",
    "```\n",
    "</details>\n"
   ]
  },
  {
   "cell_type": "markdown",
   "id": "6b23fbd7-36ab-432f-bb7f-acab52774f6d",
   "metadata": {},
   "source": [
    "### Zero-shot prompt\n",
    "\n",
    "[**Zero-shot prompting**](https://www.ibm.com/think/topics/zero-shot-prompting?utm_source=skills_network&utm_content=in_lab_content_link&utm_id=Lab-In-Context+Learning+and+Prompt+Templates-v3-GenAIcourse_1741386184) is a technique where the model performs a task without any examples or prior specific training on that task. This approach tests the model's ability to understand instructions and apply its knowledge to a new context without demonstration. Zero-shot prompts typically include clear instructions about what the model should do, allowing it to leverage its pre-trained knowledge effectively.\n"
   ]
  },
  {
   "cell_type": "markdown",
   "id": "0248bd69-ae47-465e-8a05-8970c4bffe3c",
   "metadata": {},
   "source": [
    "---\n",
    "Here is an example of a zero-shot prompt:\n",
    "\n",
    "Zero-shot learning is crucial for testing a model's ability to apply its pre-trained knowledge to new, unseen tasks without additional training. This capability is valuable for gauging the model's generalization skills.\n",
    "\n",
    "In this example, let's demonstrate a zero-shot learning scenario using a prompt that asks the model to classify a statement without any prior specific training on similar tasks. The prompt requests the model to assess the truthfulness of the statement: \"The Eiffel Tower is located in Berlin.\" After defining the prompt, you'll execute it with default parameters and print the response.\n",
    "\n",
    "This approach helps you understand how well the model can handle direct questions based on its underlying knowledge and reasoning abilities.\n"
   ]
  },
  {
   "cell_type": "markdown",
   "id": "27037c7a-c21d-4548-8e8d-a9a9c705bfa5",
   "metadata": {},
   "source": [
    "Try running the prompt to see the model's capacity to correctly analyze and respond to factual inaccuracies.\n"
   ]
  },
  {
   "cell_type": "code",
   "execution_count": null,
   "id": "da2f336c-668a-4c4f-a9eb-98f6035260ff",
   "metadata": {},
   "outputs": [],
   "source": [
    "prompt = \"\"\"Classify the following statement as true or false: \n",
    "            'The Eiffel Tower is located in Berlin.'\n",
    "\n",
    "            Answer:\n",
    "\"\"\"\n",
    "response = llm_model(prompt, params)\n",
    "print(f\"prompt: {prompt}\\n\")\n",
    "print(f\"response : {response}\\n\")"
   ]
  },
  {
   "cell_type": "markdown",
   "id": "d9ba1473-2f5f-4900-8556-079c0e1e00f0",
   "metadata": {},
   "source": [
    "The model responds with the 'False' answer, which is correct. It also gives the reason for the answer.\n"
   ]
  },
  {
   "cell_type": "markdown",
   "id": "cf17614a-8835-4a17-bac6-72c686509e1a",
   "metadata": {},
   "source": [
    "### Exercise 2\n",
    "Create zero-shot prompts for the following tasks:\n",
    "1. Write a prompt that asks the model to classify a movie review as positive or negative.\n",
    "2. Create a prompt that instructs the model to summarize a paragraph about climate change.\n",
    "3. Design a prompt that asks the model to translate an English phrase to Spanish without showing any examples.\n"
   ]
  },
  {
   "cell_type": "code",
   "execution_count": null,
   "id": "09ed73d2-f18c-4b56-a8eb-d35e3ab660b3",
   "metadata": {},
   "outputs": [],
   "source": [
    "## Starter code: provide your solutions in the TODO parts\n",
    "\n",
    "# 1. Prompt for Movie Review Classification\n",
    "movie_review_prompt = ## TODO\n",
    "\n",
    "# 2. Prompt for Climate Change Paragraph Summarization\n",
    "climate_change_prompt = ## TODO\n",
    "\n",
    "# 3. Prompt for English to Spanish Translation\n",
    "translation_prompt = ## TODO\n",
    "\n",
    "responses = {}\n",
    "responses[\"movie_review\"] = ## TODO\n",
    "responses[\"climate_change\"] = ## TODO\n",
    "responses[\"translation\"] = ## TODO\n",
    "\n",
    "for prompt_type, response in responses.items():\n",
    "    print(f\"=== {prompt_type.upper()} RESPONSE ===\")\n",
    "    print(response)\n",
    "    print()"
   ]
  },
  {
   "cell_type": "markdown",
   "id": "c94304b1-3fdb-4e3a-a774-88d952b016e5",
   "metadata": {},
   "source": [
    "<details>\n",
    "    <summary>Click here for hints</summary>\n",
    "\n",
    "```python\n",
    "# 1. Prompt for Movie Review Classification\n",
    "movie_review_prompt = \"\"\"\n",
    "Classify the following movie review as either 'positive' or 'negative'.\n",
    "\n",
    "Review: \"I was extremely disappointed by this film. The plot was predictable, the acting was wooden, and the special effects looked cheap. I can't recommend this to anyone.\"\n",
    "\n",
    "Classification:\n",
    "\"\"\"\n",
    "\n",
    "# 2. Prompt for Climate Change Paragraph Summarization\n",
    "climate_change_prompt = \"\"\"\n",
    "Summarize the following paragraph about climate change in no more than two sentences.\n",
    "\n",
    "Paragraph: \"Climate change refers to long-term shifts in temperatures and weather patterns. These shifts may be natural, but since the 1800s, human activities have been the main driver of climate change, primarily due to the burning of fossil fuels like coal, oil and gas, which produces heat-trapping gases. The consequences of climate change include more frequent and severe droughts, storms, and heat waves, rising sea levels, melting glaciers, and warming oceans which can directly impact biodiversity, agriculture, and human health.\"\n",
    "\n",
    "Summary:\n",
    "\"\"\"\n",
    "\n",
    "# 3. Prompt for English to Spanish Translation\n",
    "translation_prompt = \"\"\"\n",
    "Translate the following English phrase into Spanish.\n",
    "\n",
    "English: \"I would like to order a coffee with milk and two sugars, please.\"\n",
    "\n",
    "Spanish:\n",
    "\"\"\"\n",
    "\n",
    "responses = {}\n",
    "responses[\"movie_review\"] = llm_model(movie_review_prompt)\n",
    "responses[\"climate_change\"] = llm_model(climate_change_prompt)\n",
    "responses[\"translation\"] = llm_model(translation_prompt)\n",
    "\n",
    "for prompt_type, response in responses.items():\n",
    "    print(f\"=== {prompt_type.upper()} RESPONSE ===\")\n",
    "    print(response)\n",
    "    print()\n",
    "```\n",
    "</details>\n"
   ]
  },
  {
   "cell_type": "markdown",
   "id": "d4df49cb-2834-4da7-b6ef-68522a71b935",
   "metadata": {},
   "source": [
    "### One-shot prompt\n",
    "\n",
    "[**One-shot prompting**](https://www.ibm.com/think/topics/one-shot-prompting?utm_source=skills_network&utm_content=in_lab_content_link&utm_id=Lab-In-Context+Learning+and+Prompt+Templates-v3-GenAIcourse_1741386184) provides the model with a **single** example of the task before asking it to perform a similar task. This technique gives the model a pattern to follow, improving its understanding of the desired output format and style. One-shot learning is particularly useful when you want to guide the model's response without extensive examples.\n"
   ]
  },
  {
   "cell_type": "markdown",
   "id": "dbc3bcee-fe3f-4817-8307-c7f447a42f57",
   "metadata": {},
   "source": [
    "Here is a one-shot learning example where the model is given a single example to help guide its translation from English to French.\n",
    "\n",
    "The prompt provides a sample translation pairing, \"How is the weather today?\" translated to \"Comment est le temps aujourd'hui?\" This example serves as a guide for the model to understand the task context and desired format. The model is then tasked with translating a new sentence, \"Where is the nearest supermarket?\" without further guidance.\n"
   ]
  },
  {
   "cell_type": "code",
   "execution_count": null,
   "id": "0a0e0721-56d8-4502-8a8a-1aaa3eb0c0d0",
   "metadata": {},
   "outputs": [],
   "source": [
    "params = {\n",
    "    \"max_new_tokens\": 20,\n",
    "    \"temperature\": 0.1,\n",
    "}\n",
    "\n",
    "prompt = \"\"\"Here is an example of translating a sentence from English to French:\n",
    "\n",
    "            English: “How is the weather today?”\n",
    "            French: “Comment est le temps aujourd'hui?”\n",
    "            \n",
    "            Now, translate the following sentence from English to French:\n",
    "            \n",
    "            English: “Where is the nearest supermarket?”\n",
    "            \n",
    "\"\"\"\n",
    "response = llm_model(prompt, params)\n",
    "print(f\"prompt: {prompt}\\n\")\n",
    "print(f\"response : {response}\\n\")"
   ]
  },
  {
   "cell_type": "markdown",
   "id": "47dcb53a-6226-48c5-8b68-a7bb3e3609b8",
   "metadata": {},
   "source": [
    "The model's response shows how it applies the structure and context provided by the initial example to translate the new sentence.\n"
   ]
  },
  {
   "cell_type": "markdown",
   "id": "09b38dd6-1e57-47b8-8b62-3ea49f85d31d",
   "metadata": {},
   "source": [
    "Consider experimenting with different sentences or adjusting the parameters to see how these changes impact the model's translations.\n"
   ]
  },
  {
   "cell_type": "markdown",
   "id": "dc707768-f915-465d-a38a-9719e482b832",
   "metadata": {},
   "source": [
    "### Exercise 3\n",
    "Develop one-shot prompts for these scenarios:\n",
    "1. Create a prompt with one example of a formal email, then ask the model to write another formal email on a different topic.\n",
    "2. Provide one example of converting a technical concept into a simple explanation, then ask the model to explain a different concept.\n",
    "3. Give one example of extracting keywords from a sentence, then ask the model to extract keywords from a new sentence.\n"
   ]
  },
  {
   "cell_type": "code",
   "execution_count": null,
   "id": "3d1551aa-e500-48bc-af5c-87486025a014",
   "metadata": {},
   "outputs": [],
   "source": [
    "## Starter code: provide your solutions in the TODO parts\n",
    "\n",
    "# 1. One-shot prompt for formal email writing\n",
    "formal_email_prompt = ## TODO\n",
    "\n",
    "# 2. One-shot prompt for simplifying technical concepts\n",
    "technical_concept_prompt = ## TODO\n",
    "\n",
    "# 3. One-shot prompt for keyword extraction\n",
    "keyword_extraction_prompt = ## TODO\n",
    "\n",
    "responses = {}\n",
    "responses[\"formal_email\"] = ## TODO\n",
    "responses[\"technical_concept\"] = ## TODO\n",
    "responses[\"keyword_extraction\"] = ## TODO\n",
    "\n",
    "for prompt_type, response in responses.items():\n",
    "    print(f\"=== {prompt_type.upper()} RESPONSE ===\")\n",
    "    print(response)\n",
    "    print()"
   ]
  },
  {
   "cell_type": "markdown",
   "id": "8fb15e35-cec8-49fa-b614-e69fa8f6e432",
   "metadata": {},
   "source": [
    "<details>\n",
    "    <summary>Click here for hints</summary>\n",
    "\n",
    "```python\n",
    "# 1. One-shot prompt for formal email writing\n",
    "formal_email_prompt = \"\"\"\n",
    "Here is an example of a formal email requesting information:\n",
    "\n",
    "Subject: Inquiry Regarding Product Specifications for Model XYZ-100\n",
    "\n",
    "Dear Customer Support Team,\n",
    "\n",
    "I hope this email finds you well. I am writing to request detailed specifications for your product Model XYZ-100. Specifically, I am interested in learning about its dimensions, power requirements, and compatibility with third-party accessories.\n",
    "\n",
    "Could you please provide this information at your earliest convenience? Additionally, I would appreciate any available documentation or user manuals that you could share.\n",
    "\n",
    "Thank you for your assistance in this matter.\n",
    "\n",
    "Sincerely,\n",
    "John Smith\n",
    "\n",
    "---\n",
    "\n",
    "Now, please write a formal email to a university admissions office requesting information about their application deadline and required documents for the Master's program in Computer Science:\n",
    "\n",
    "\"\"\"\n",
    "\n",
    "# 2. One-shot prompt for simplifying technical concepts\n",
    "technical_concept_prompt = \"\"\"\n",
    "Here is an example of explaining a technical concept in simple terms:\n",
    "\n",
    "Technical Concept: Blockchain\n",
    "Simple Explanation: A blockchain is like a digital notebook that many people have copies of. When someone writes a new entry in this notebook, everyone's copy gets updated. Once something is written, it can't be erased or changed, and everyone can see who wrote what. This makes it useful for recording important information that needs to be secure and trusted by everyone.\n",
    "\n",
    "---\n",
    "\n",
    "Now, please explain the following technical concept in simple terms:\n",
    "\n",
    "Technical Concept: Machine Learning\n",
    "Simple Explanation:\n",
    "\"\"\"\n",
    "\n",
    "# 3. One-shot prompt for keyword extraction\n",
    "keyword_extraction_prompt = \"\"\"\n",
    "Here is an example of extracting keywords from a sentence:\n",
    "\n",
    "Sentence: \"Cloud computing offers businesses flexibility, scalability, and cost-efficiency for their IT infrastructure needs.\"\n",
    "Keywords: cloud computing, flexibility, scalability, cost-efficiency, IT infrastructure\n",
    "\n",
    "---\n",
    "\n",
    "Now, please extract the main keywords from the following sentence:\n",
    "\n",
    "Sentence: \"Sustainable agriculture practices focus on biodiversity, soil health, water conservation, and reducing chemical inputs.\"\n",
    "Keywords:\n",
    "\"\"\"\n",
    "\n",
    "responses = {}\n",
    "responses[\"formal_email\"] = llm_model(formal_email_prompt)\n",
    "responses[\"technical_concept\"] = llm_model(technical_concept_prompt)\n",
    "responses[\"keyword_extraction\"] = llm_model(keyword_extraction_prompt)\n",
    "\n",
    "for prompt_type, response in responses.items():\n",
    "    print(f\"=== {prompt_type.upper()} RESPONSE ===\")\n",
    "    print(response)\n",
    "    print()\n",
    "```\n",
    "</details>\n"
   ]
  },
  {
   "cell_type": "markdown",
   "id": "7389fee4-e00c-4832-94e6-db3ed4f5329c",
   "metadata": {},
   "source": [
    "### Few-shot prompt\n",
    "\n",
    "[**Few-shot prompting**](https://www.ibm.com/think/topics/few-shot-prompting?utm_source=skills_network&utm_content=in_lab_content_link&utm_id=Lab-In-Context+Learning+and+Prompt+Templates-v3-GenAIcourse_1741386184) extends the one-shot approach by providing multiple examples (typically 2-5) before asking the model to perform the task. These examples establish a clearer pattern and context, helping the model better understand the expected output format, style, and reasoning. This technique is particularly effective for complex tasks where a single example might not convey all the nuances.\n"
   ]
  },
  {
   "cell_type": "markdown",
   "id": "a869571d-5b74-4fcf-9875-1a4c6d8808db",
   "metadata": {},
   "source": [
    "Here is an example of few-shot learning by classifying emotions from text statements. \n",
    "\n",
    "Let's provide the model with three examples, each labeled with an appropriate emotion—joy, frustration, and sadness—to establish a pattern or guideline on how to categorize emotions in statements.\n",
    "\n",
    "After presenting these examples, let's challenge the model with a new statement: \"That movie was so scary I had to cover my eyes.\" The task for the model is to classify the emotion expressed in this new statement based on the learning from the provided examples. \n"
   ]
  },
  {
   "cell_type": "code",
   "execution_count": null,
   "id": "5448253a-5374-42ec-8042-642f7ad5e915",
   "metadata": {},
   "outputs": [],
   "source": [
    "#parameters: Set `max_new_tokens` to 10, which constrains the model to generate brief responses\n",
    "\n",
    "params = {\n",
    "    \"max_new_tokens\": 10,\n",
    "}\n",
    "\n",
    "prompt = \"\"\"Here are few examples of classifying emotions in statements:\n",
    "\n",
    "            Statement: 'I just won my first marathon!'\n",
    "            Emotion: Joy\n",
    "            \n",
    "            Statement: 'I can't believe I lost my keys again.'\n",
    "            Emotion: Frustration\n",
    "            \n",
    "            Statement: 'My best friend is moving to another country.'\n",
    "            Emotion: Sadness\n",
    "            \n",
    "            Now, classify the emotion in the following statement:\n",
    "            Statement: 'That movie was so scary I had to cover my eyes.’\n",
    "            \n",
    "\n",
    "\"\"\"\n",
    "response = llm_model(prompt, params)\n",
    "print(f\"prompt: {prompt}\\n\")\n",
    "print(f\"response : {response}\\n\")"
   ]
  },
  {
   "cell_type": "markdown",
   "id": "d326735a-a59e-47b0-b07b-841ba2f8d06d",
   "metadata": {},
   "source": [
    "The parameters are set with `max_new_tokens` to 10, which constrains the model to generate brief responses, focusing on the essential output without elaboration.\n"
   ]
  },
  {
   "cell_type": "markdown",
   "id": "3f5d49f4-20e8-484a-b731-493fede70cee",
   "metadata": {},
   "source": [
    "The model's response demonstrates its ability to use the provided few examples to understand and classify the emotion of the new statement effectively following the same pattern in examples.\n"
   ]
  },
  {
   "cell_type": "markdown",
   "id": "60dc3979-9dd4-4334-83db-937b3d7f3499",
   "metadata": {},
   "source": [
    "### Chain-of-thought (CoT) prompt\n",
    "\n",
    "[**Chain-of-thought (CoT) prompting**](https://www.ibm.com/think/topics/chain-of-thoughts?utm_source=skills_network&utm_content=in_lab_content_link&utm_id=Lab-In-Context+Learning+and+Prompt+Templates-v3-GenAIcourse_1741386184) encourages the model to break down complex problems into step-by-step reasoning before arriving at a final answer. By explicitly showing or requesting intermediate steps, this technique improves the model's problem-solving abilities and reduces errors in tasks requiring multi-step reasoning. CoT is particularly effective for mathematical problems, logical reasoning, and complex decision-making tasks.\n"
   ]
  },
  {
   "cell_type": "markdown",
   "id": "2c815cc2-3d5f-4ea1-9f4b-bf08ddb582e4",
   "metadata": {},
   "source": [
    "Here is an example of the CoT prompting technique, designed to guide the model through a sequence of reasoning steps to solve a problem. In this example, the problem is a simple arithmetic question: “A store had 22 apples. They sold 15 apples today and received a new delivery of 8 apples. How many apples are there now?”\n",
    "\n",
    "The CoT technique involves structuring the prompt by instructing the model to “Break down each step of your calculation.” This encourages the model to include explicit reasoning steps, mimicking human-like problem-solving processes.\n"
   ]
  },
  {
   "cell_type": "code",
   "execution_count": null,
   "id": "6a3a8070-ca5b-4275-9744-4755612a88ce",
   "metadata": {},
   "outputs": [],
   "source": [
    "params = {\n",
    "    \"max_new_tokens\": 512,\n",
    "    \"temperature\": 0.5,\n",
    "}\n",
    "\n",
    "prompt = \"\"\"Consider the problem: 'A store had 22 apples. They sold 15 apples today and got a new delivery of 8 apples. \n",
    "            How many apples are there now?’\n",
    "\n",
    "            Break down each step of your calculation\n",
    "\n",
    "\"\"\"\n",
    "response = llm_model(prompt, params)\n",
    "print(f\"prompt: {prompt}\\n\")\n",
    "print(f\"response : {response}\\n\")"
   ]
  },
  {
   "cell_type": "markdown",
   "id": "07c53f0e-12ea-4696-9723-b23495af4ade",
   "metadata": {},
   "source": [
    "From the response of the model, you can see the prompt directs the model to:\n",
    "\n",
    "1. Add the initial number of apples to the apples received in the new delivery.\n",
    "2. Subtract the number of apples sold from the sum obtained in the first step.\n"
   ]
  },
  {
   "cell_type": "markdown",
   "id": "583cb5f1-2ada-4113-9f43-23a78dfa8a8a",
   "metadata": {},
   "source": [
    "By breaking down the problem into specific steps, the model is better able to understand the sequence of operations required to arrive at the correct answer.\n"
   ]
  },
  {
   "cell_type": "markdown",
   "id": "a42ff36d-a50d-4e69-91af-13c8be85f74d",
   "metadata": {},
   "source": [
    "### Exercise 4\n",
    "Create CoT prompts for these scenarios:\n",
    "1. Write a prompt that asks the model to think through whether a student should study tonight or go to a movie with friends, considering their upcoming test in two days.\n",
    "2. Write a prompt that instructs the model to explain the step-by-step process of making a peanut butter and jelly sandwich.\n"
   ]
  },
  {
   "cell_type": "code",
   "execution_count": null,
   "id": "35985bd3-267e-4d28-ab45-5efa0d6b0659",
   "metadata": {},
   "outputs": [],
   "source": [
    "## Starter code: provide your solutions in the TODO parts\n",
    "\n",
    "# 1. Prompt for decision-making process\n",
    "decision_making_prompt = ## TODO\n",
    "\n",
    "# 2. Prompt for explaining a process\n",
    "sandwich_making_prompt = ## TODO\n",
    "\n",
    "responses = {}\n",
    "responses[\"decision_making\"] = ## TODO\n",
    "responses[\"sandwich_making\"] = ## TODO\n",
    "\n",
    "for prompt_type, response in responses.items():\n",
    "    print(f\"=== {prompt_type.upper()} RESPONSE ===\")\n",
    "    print(response)\n",
    "    print()"
   ]
  },
  {
   "cell_type": "markdown",
   "id": "8bdeb518-3f08-4e6e-8c08-28d854044877",
   "metadata": {},
   "source": [
    "<details>\n",
    "    <summary>Click here for hints</summary>\n",
    "\n",
    "```python\n",
    "# 1. Prompt for decision-making process\n",
    "decision_making_prompt = \"\"\"\n",
    "Consider this situation: A student is trying to decide whether to study tonight or go to a movie with friends. They have a test in two days.\n",
    "\n",
    "Think through this decision step-by-step, considering the pros and cons of each option, and what factors might be most important in making this choice.\n",
    "\"\"\"\n",
    "\n",
    "# 2. Prompt for explaining a process\n",
    "sandwich_making_prompt = \"\"\"\n",
    "Explain how to make a peanut butter and jelly sandwich.\n",
    "\n",
    "Break down each step of the process in detail, from gathering ingredients to finishing the sandwich.\n",
    "\"\"\"\n",
    "\n",
    "responses = {}\n",
    "responses[\"decision_making\"] = llm_model(decision_making_prompt)\n",
    "responses[\"sandwich_making\"] = llm_model(sandwich_making_prompt)\n",
    "\n",
    "for prompt_type, response in responses.items():\n",
    "    print(f\"=== {prompt_type.upper()} RESPONSE ===\")\n",
    "    print(response)\n",
    "    print()\n",
    "```\n",
    "</details>\n"
   ]
  },
  {
   "cell_type": "markdown",
   "id": "56f43c21-bd92-431b-9c84-776b0784f5e6",
   "metadata": {},
   "source": [
    "### Self-consistency\n",
    "\n",
    "[**Self-consistency**](https://www.promptingguide.ai/techniques/consistency) is an advanced technique in which the model generates multiple independent solutions or answers to the same problem, then evaluates these different approaches to determine the most consistent or reliable result. This method enhances accuracy by leveraging the model's ability to approach problems from different angles and identify the most robust solution through comparison and verification.\n"
   ]
  },
  {
   "cell_type": "markdown",
   "id": "1332a61d-b251-4a83-9a97-9626c591006f",
   "metadata": {},
   "source": [
    "This example demonstrates the self-consistency technique by reasoning through multiple calculations for a single problem. The problem posed is: “When I was 6, my sister was half my age. Now I am 70, what age is my sister?”\n",
    "\n",
    "The prompt instructs, “Provide three independent calculations and explanations, then determine the most consistent result.” This encourages the model to engage in critical thinking and consistency checking, both of which are vital for complex decision-making processes.\n"
   ]
  },
  {
   "cell_type": "code",
   "execution_count": null,
   "id": "f3e39751-d67c-4d18-b00e-b68c694de9b6",
   "metadata": {},
   "outputs": [],
   "source": [
    "params = {\n",
    "    \"max_new_tokens\": 512,\n",
    "}\n",
    "\n",
    "prompt = \"\"\"When I was 6, my sister was half of my age. Now I am 70, what age is my sister?\n",
    "\n",
    "            Provide three independent calculations and explanations, then determine the most consistent result.\n",
    "\n",
    "\"\"\"\n",
    "response = llm_model(prompt, params)\n",
    "print(f\"prompt: {prompt}\\n\")\n",
    "print(f\"response : {response}\\n\")"
   ]
  },
  {
   "cell_type": "markdown",
   "id": "ecd79f35-1999-4f36-9c91-6ec610b54179",
   "metadata": {},
   "source": [
    "The model's response demonstrates three different calculations and explanations, each using a distinct logical approach to determine the sister's age.\n",
    "\n",
    "Self-consistency can help identify the most accurate and reliable answer in scenarios where multiple plausible solutions exist.\n"
   ]
  },
  {
   "cell_type": "markdown",
   "id": "0fb0d6e9-782a-47c7-8100-0970b7cf05a6",
   "metadata": {},
   "source": [
    "## Applications of prompting in different use cases\n"
   ]
  },
  {
   "cell_type": "markdown",
   "id": "0c4f3846-beb7-4efd-992b-36047feec11a",
   "metadata": {},
   "source": [
    "In this section, we'll demonstrate how to leverage LangChain's prompt templates to build practical applications with consistent, reproducible results. Each application follows a common pattern using the LCEL approach:\n",
    "\n",
    "1. Define the content or problem to be addressed.\n",
    "2. Create a template with variables for dynamic content.\n",
    "3. Convert the template into a LangChain PromptTemplate.\n",
    "4. Build a chain using the pipe operator `|` to connect:\n",
    "\n",
    "    - Input variables\n",
    "    - The prompt template\n",
    "    - The LLM\n",
    "    - An output parser\n",
    "\n",
    "\n",
    "5. Invoke the chain with specific inputs to generate results.\n",
    "\n",
    "This structured approach enables you to create reusable components for various NLP tasks while maintaining flexibility to adjust parameters and inputs. You'll see how this pattern applies across different use cases.\n"
   ]
  },
  {
   "cell_type": "markdown",
   "id": "9d5e04ab-bbaf-49c2-876b-c271aea723c9",
   "metadata": {},
   "source": [
    "### Introduction to LangChain \n",
    "\n",
    "[LangChain](https://www.langchain.com/) is a powerful framework designed to simplify the development of applications powered by language models. Built to address the challenges of working with LLMs in practical settings, LangChain provides a standardized interface for connecting models with various data sources and application environments.\n",
    "\n",
    "LangChain serves as an abstraction layer, making it easier to build complex LLM applications without handling the low-level details of model interaction. This framework has become a standard tool in the LLM ecosystem, supporting a wide range of use cases from chatbots to document analysis systems.\n",
    "\n",
    "In this section, we'll focus on LangChain's prompt template capabilities, demonstrating how they can be used to create structured, reproducible interactions with language models across different application types.\"\n"
   ]
  },
  {
   "cell_type": "markdown",
   "id": "8ec1cb92-47ea-439a-af9b-9423ab628dc6",
   "metadata": {},
   "source": [
    "### Prompt template\n"
   ]
  },
  {
   "cell_type": "markdown",
   "id": "ad0f2d82-6afd-472b-8c7e-e6ecb45ade68",
   "metadata": {},
   "source": [
    "[Prompt templates](https://python.langchain.com/v0.2/docs/concepts/#prompt-templates) are a key concept in LangChain. They help translate user input and parameters into instructions for a language model. These templates can be used to guide a model's response, helping it understand the context and generate relevant and coherent language-based outputs.\n",
    "\n",
    "A prompt template acts as a reusable structure for generating prompts with dynamic values. It allows you to define a consistent format while leaving placeholders for variables that change with each use case. This approach makes prompting more systematic and maintainable, especially when working with complex applications.\n",
    "\n",
    "**Modern LangChain (as of 2025) offers two main approaches to working with templates:**\n",
    "\n",
    "- The traditional `LLMChain` approach\n",
    "- The newer LangChain Expression Language (LCEL) pattern using the pipe operator `|` for more flexible composition\n",
    "\n",
    "LCEL has become the recommended pattern for building LangChain applications as it offers better composability, clearer visualization of data flow, and more flexibility when constructing complex chains.\n",
    "\n",
    "**To use a prompt template with LCEL, you typically follow these steps:**\n",
    "\n",
    "- Define your template with variables in curly braces `{}`\n",
    "- Create a `PromptTemplate` instance\n",
    "- Build a chain using the pipe operator `|` to connect components\n",
    "- Invoke the chain with your input values\n",
    "\n",
    "Let's initialize an LLM first, then demonstrate this approach. In this section, we will use the model `meta-llama/llama-3-3-70b-instruct`:\n"
   ]
  },
  {
   "cell_type": "code",
   "execution_count": null,
   "id": "9d902a1f-7091-4cf6-89b5-02e7f9fa0d83",
   "metadata": {},
   "outputs": [],
   "source": [
    "model_id = \"meta-llama/llama-3-3-70b-instruct\"\n",
    "\n",
    "parameters = {\n",
    "    GenParams.MAX_NEW_TOKENS: 256,  # this controls the maximum number of tokens in the generated output\n",
    "    GenParams.TEMPERATURE: 0.5, # this randomness or creativity of the model's responses\n",
    "}\n",
    "\n",
    "url = \"https://us-south.ml.cloud.ibm.com\"\n",
    "project_id = \"skills-network\"\n",
    "\n",
    "llm = WatsonxLLM(\n",
    "        model_id=model_id,\n",
    "        url=url,\n",
    "        project_id=project_id,\n",
    "        params=parameters\n",
    "    )\n",
    "llm"
   ]
  },
  {
   "cell_type": "markdown",
   "id": "8a389513-a1ab-4fa6-8bb5-72f791cab20f",
   "metadata": {},
   "source": [
    "Use the `PromptTemplate` to create a template for a string-based prompt. In this template, you'll define two parameters: `adjective` and `content`. These parameters allow for the reuse of the prompt across different situations. For instance, to adapt the prompt to various contexts, simply pass the relevant values to these parameters.\n"
   ]
  },
  {
   "cell_type": "code",
   "execution_count": null,
   "id": "a1d8af91-9656-4fdc-a081-9df5f62d5c2e",
   "metadata": {},
   "outputs": [],
   "source": [
    "template = \"\"\"Tell me a {adjective} joke about {content}.\n",
    "\"\"\"\n",
    "prompt = PromptTemplate.from_template(template)\n",
    "prompt "
   ]
  },
  {
   "cell_type": "markdown",
   "id": "cb3d170d-8532-4a0a-8700-652e5804113e",
   "metadata": {},
   "source": [
    "Now, let's take a look at how the prompt has been formatted.\n"
   ]
  },
  {
   "cell_type": "code",
   "execution_count": null,
   "id": "1cb7c755-0bbf-4de0-863f-b79aa958e321",
   "metadata": {},
   "outputs": [],
   "source": [
    "prompt.format(adjective=\"funny\", content=\"chickens\")"
   ]
  },
  {
   "cell_type": "markdown",
   "id": "53d1aa6d-3bf1-45be-b478-5d99c14b43d7",
   "metadata": {},
   "source": [
    "From the response, you can see that the prompt is formatted according to the specified context.\n"
   ]
  },
  {
   "cell_type": "markdown",
   "id": "562a30c4-10db-4ed0-8cc7-b569f695c12a",
   "metadata": {},
   "source": [
    "To ensure consistent formatting of the prompts, we will define a helper function `format_prompt`. This function takes a dictionary of variables and applies them to our prompt template. It ensures that all placeholder variables (like {adjective} and {content}) are properly replaced with their values before the prompt is sent to the language model.\n"
   ]
  },
  {
   "cell_type": "code",
   "execution_count": null,
   "id": "d148fbf5-9952-4857-8082-3a8536d3e280",
   "metadata": {},
   "outputs": [],
   "source": [
    "from langchain_core.runnables import RunnableLambda\n",
    "\n",
    "# Define a function to ensure proper formatting\n",
    "def format_prompt(variables):\n",
    "    return prompt.format(**variables)"
   ]
  },
  {
   "cell_type": "markdown",
   "id": "1a3a6345-4f6f-46d2-ab3d-cefc73f4a013",
   "metadata": {},
   "source": [
    "The following code builds a chain using the LCEL (LangChain Expression Language) pattern. This chain connects components using the pipe operator (`|`) to create a processing flow. The chain takes input variables, passes them through the prompt template, sends the formatted prompt to the LLM, and uses a string output parser to return the final response.\n"
   ]
  },
  {
   "cell_type": "code",
   "execution_count": null,
   "id": "dd5a335b-0c01-4956-9066-14a84375593c",
   "metadata": {},
   "outputs": [],
   "source": [
    "# Create the chain with explicit formatting\n",
    "joke_chain = (\n",
    "    RunnableLambda(format_prompt)\n",
    "    | llm \n",
    "    | StrOutputParser()\n",
    ")\n",
    "\n",
    "# Run the chain\n",
    "response = joke_chain.invoke({\"adjective\": \"funny\", \"content\": \"chickens\"})\n",
    "print(response)"
   ]
  },
  {
   "cell_type": "markdown",
   "id": "27878584-9efa-4125-8edb-131dfb27bee2",
   "metadata": {},
   "source": [
    "From the response, you can see the LLM came up with a funny joke about chickens.\n",
    "\n",
    "To use this prompt in another context, simply replace the variables accordingly.\n"
   ]
  },
  {
   "cell_type": "code",
   "execution_count": null,
   "id": "06602972-c332-47f0-a630-868057ce58c2",
   "metadata": {},
   "outputs": [],
   "source": [
    "response = joke_chain.invoke({\"adjective\": \"sad\", \"content\": \"fish\"})\n",
    "print(response)"
   ]
  },
  {
   "cell_type": "markdown",
   "id": "d1b25f3d-be8b-4322-95df-ce6b9b9a8aec",
   "metadata": {},
   "source": [
    "In the following sections, you will learn how to create agents capable of completing various tasks using prompt templates.\n"
   ]
  },
  {
   "cell_type": "markdown",
   "id": "0d9fd187-a68a-4691-bf78-6412668ff1f4",
   "metadata": {},
   "source": [
    "### Text summarization\n"
   ]
  },
  {
   "cell_type": "markdown",
   "id": "4131faeb-3d76-4873-aaad-8d88d78882e8",
   "metadata": {},
   "source": [
    "Here is a text summarization agent designed to help summarize the content you provide to the LLM. The LCEL chain takes your content as input, processes it through the prompt template, sends it to the language model, and returns a concise summary.\n",
    "\n",
    "You can store the content to be summarized in a variable, allowing for repeated use with different texts:\n"
   ]
  },
  {
   "cell_type": "code",
   "execution_count": null,
   "id": "4baa4b35-e350-41fc-8bc0-dd9357275136",
   "metadata": {},
   "outputs": [],
   "source": [
    "content = \"\"\"\n",
    "    The rapid advancement of technology in the 21st century has transformed various industries, including healthcare, education, and transportation. \n",
    "    Innovations such as artificial intelligence, machine learning, and the Internet of Things have revolutionized how we approach everyday tasks and complex problems. \n",
    "    For instance, AI-powered diagnostic tools are improving the accuracy and speed of medical diagnoses, while smart transportation systems are making cities more efficient and reducing traffic congestion. \n",
    "    Moreover, online learning platforms are making education more accessible to people around the world, breaking down geographical and financial barriers. \n",
    "    These technological developments are not only enhancing productivity but also contributing to a more interconnected and informed society.\n",
    "\"\"\"\n",
    "\n",
    "template = \"\"\"Summarize the {content} in one sentence.\n",
    "\"\"\"\n",
    "prompt = PromptTemplate.from_template(template)\n",
    "\n",
    "# Create the LCEL chain\n",
    "summarize_chain = (\n",
    "    RunnableLambda(format_prompt)\n",
    "    | llm \n",
    "    | StrOutputParser()\n",
    ")\n",
    "\n",
    "# Run the chain\n",
    "summary = summarize_chain.invoke({\"content\": content})\n",
    "print(summary)"
   ]
  },
  {
   "cell_type": "markdown",
   "id": "9ca4c76d-69ee-4868-b027-79c73b758e25",
   "metadata": {},
   "source": [
    "### Question answering\n"
   ]
  },
  {
   "cell_type": "markdown",
   "id": "791597f6-6b94-4480-b26a-71d28d1a5192",
   "metadata": {},
   "source": [
    "Here is a Q&A agent built using the LCEL pattern.\n",
    "\n",
    "This agent enables the LLM to learn from the provided content and answer questions based on what it has learned. Occasionally, if the LLM does not have sufficient information, it may generate a speculative answer. To manage this, we'll specifically instruct it to respond with \"Unsure about the answer\" if it is uncertain about the correct response.\n",
    "\n",
    "The chain takes both the content (context) and question as inputs, processing them through our template before sending them to the LLM:\n"
   ]
  },
  {
   "cell_type": "code",
   "execution_count": null,
   "id": "deadefe4-5b53-4dc6-9803-31f3a419f844",
   "metadata": {},
   "outputs": [],
   "source": [
    "content = \"\"\"\n",
    "    The solar system consists of the Sun, eight planets, their moons, dwarf planets, and smaller objects like asteroids and comets. \n",
    "    The inner planets—Mercury, Venus, Earth, and Mars—are rocky and solid. \n",
    "    The outer planets—Jupiter, Saturn, Uranus, and Neptune—are much larger and gaseous.\n",
    "\"\"\"\n",
    "\n",
    "question = \"Which planets in the solar system are rocky and solid?\"\n",
    "\n",
    "template = \"\"\"\n",
    "    Answer the {question} based on the {content}.\n",
    "    Respond \"Unsure about answer\" if not sure about the answer.\n",
    "    \n",
    "    Answer:\n",
    "    \n",
    "\"\"\"\n",
    "prompt = PromptTemplate.from_template(template)\n",
    "\n",
    "# Create the LCEL chain\n",
    "qa_chain = (\n",
    "    RunnableLambda(format_prompt)\n",
    "    | llm \n",
    "    | StrOutputParser()\n",
    ")\n",
    "\n",
    "# Run the chain\n",
    "answer = qa_chain.invoke({\"question\": question, \"content\": content})\n",
    "print(answer)"
   ]
  },
  {
   "cell_type": "markdown",
   "id": "af727a33-fc0e-43b5-a210-ca2719054230",
   "metadata": {},
   "source": [
    "### Text classification\n"
   ]
  },
  {
   "cell_type": "markdown",
   "id": "e362e235-c08e-4b1a-977f-6754cb9f9440",
   "metadata": {},
   "source": [
    "Here is a text classification agent designed to categorize text into predefined categories. This example employs zero-shot learning, where the agent classifies text without prior exposure to related examples.\n",
    "\n",
    "Using the LCEL approach, we create a chain that takes both the text to be classified and the available categories as inputs:\n"
   ]
  },
  {
   "cell_type": "code",
   "execution_count": null,
   "id": "6e5bd327-3064-4dc0-81b8-ae7ab44993f2",
   "metadata": {},
   "outputs": [],
   "source": [
    "text = \"\"\"\n",
    "    The concert last night was an exhilarating experience with outstanding performances by all artists.\n",
    "\"\"\"\n",
    "\n",
    "categories = \"Entertainment, Food and Dining, Technology, Literature, Music.\"\n",
    "\n",
    "template = \"\"\"\n",
    "    Classify the {text} into one of the {categories}.\n",
    "    \n",
    "    Category:\n",
    "    \n",
    "\"\"\"\n",
    "prompt = PromptTemplate.from_template(template)\n",
    "\n",
    "# Create the LCEL chain\n",
    "classification_chain = (\n",
    "    RunnableLambda(format_prompt)\n",
    "    | llm \n",
    "    | StrOutputParser()\n",
    ")\n",
    "\n",
    "# Run the chain\n",
    "category = classification_chain.invoke({\"text\": text, \"categories\": categories})\n",
    "print(category)"
   ]
  },
  {
   "cell_type": "markdown",
   "id": "3fc8cbf4-f351-4541-933e-fd96b635142e",
   "metadata": {},
   "source": [
    "### Code generation\n"
   ]
  },
  {
   "cell_type": "markdown",
   "id": "57695c58-d3fe-4251-8083-f022c9fbc240",
   "metadata": {},
   "source": [
    "Here is an example of an SQL code generation agent built with LCEL. This agent is designed to generate SQL queries based on provided descriptions. It interprets the requirements from your input and translates them into executable SQL code.\n",
    "\n",
    "The chain takes your natural language description and transforms it into a properly formatted SQL query:\n"
   ]
  },
  {
   "cell_type": "code",
   "execution_count": null,
   "id": "6a7c92b0-af36-4b96-8fc6-e9cf2d65c509",
   "metadata": {},
   "outputs": [],
   "source": [
    "description = \"\"\"\n",
    "    Retrieve the names and email addresses of all customers from the 'customers' table who have made a purchase in the last 30 days. \n",
    "    The table 'purchases' contains a column 'purchase_date'\n",
    "\"\"\"\n",
    "\n",
    "template = \"\"\"\n",
    "    Generate an SQL query based on the {description}\n",
    "    \n",
    "    SQL Query:\n",
    "    \n",
    "\"\"\"\n",
    "prompt = PromptTemplate.from_template(template)\n",
    "\n",
    "# Create the LCEL chain\n",
    "sql_generation_chain = (\n",
    "    RunnableLambda(format_prompt) \n",
    "    | llm \n",
    "    | StrOutputParser()\n",
    ")\n",
    "\n",
    "# Run the chain\n",
    "sql_query = sql_generation_chain.invoke({\"description\": description})\n",
    "print(sql_query)"
   ]
  },
  {
   "cell_type": "markdown",
   "id": "18a86d71-5e3b-4f06-a09a-28499e4366f5",
   "metadata": {},
   "source": [
    "### Role playing\n"
   ]
  },
  {
   "cell_type": "markdown",
   "id": "01b3ad67-1fb5-4620-b913-d25c80c0351d",
   "metadata": {},
   "source": [
    "You can also configure the LLM to assume specific roles as defined by us, enabling it to follow predetermined rules and behave like a task-oriented chatbot.\n",
    "\n",
    "This approach separates the role definition from the prompt structure, allowing for easy role-switching without rewriting the entire prompt. The key components are:\n",
    "\n",
    "- `role`: Specifies the character, expertise, or persona the LLM should embody\n",
    "- `tone`: Defines the communication style and emotional quality of responses\n",
    "- `question`: Contains the user's query that needs addressing\n",
    "\n",
    "By parameterizing these elements, you can rapidly change the LLM's behavior by adjusting single variables rather than rewriting entire prompts. This pattern is particularly valuable for building conversational agents that need to serve different functions or adapt to various contexts.\n",
    "\n",
    "For example, the code below configures the LLM to act as a game master. In this role, the LLM answers questions about games while maintaining an engaging and immersive tone, enhancing the user experience. You can test the bot by asking questions related to tabletop role-playing games or game mastering. Try asking about game rules, storytelling techniques, player management, or setting descriptions such as:\n",
    "\n",
    "1. \"Who are you?\"\n",
    "2. \"What are the basic rules of Dungeons & Dragons?\"\n",
    "3. \"How do I create a balanced encounter for my players?\"\n",
    "4. \"Can you describe a mysterious forest setting for my adventure?\"\n",
    "5. \"What's a good puzzle I could use in my dungeon?\"\n",
    "6. \"How do I handle a player who is constantly interrupting others?\"\n",
    "\n",
    "The function is written within a while loop, allowing continuous interaction. **To exit the loop and terminate the conversation, type \"quit,\" \"exit,\" or \"bye\" into the input box.**\n"
   ]
  },
  {
   "cell_type": "code",
   "execution_count": null,
   "id": "ba812ec1-921c-46f4-b5b0-78c7ed8ff382",
   "metadata": {},
   "outputs": [],
   "source": [
    "role = \"\"\"\n",
    "    Dungeon & Dragons game master\n",
    "\"\"\"\n",
    "\n",
    "tone = \"engaging and immersive\"\n",
    "\n",
    "template = \"\"\"\n",
    "    You are an expert {role}. I have this question {question}. I would like our conversation to be {tone}.\n",
    "    \n",
    "    Answer:\n",
    "    \n",
    "\"\"\"\n",
    "prompt = PromptTemplate.from_template(template)\n",
    "\n",
    "# Create the LCEL chain\n",
    "roleplay_chain = (\n",
    "    RunnableLambda(format_prompt)\n",
    "    | llm \n",
    "    | StrOutputParser()\n",
    ")\n",
    "\n",
    "# Create an interactive chat loop\n",
    "while True:\n",
    "    query = input(\"Question: \")\n",
    "    \n",
    "    if query.lower() in [\"quit\", \"exit\", \"bye\"]:\n",
    "        print(\"Answer: Goodbye!\")\n",
    "        break\n",
    "        \n",
    "    response = roleplay_chain.invoke({\"role\": role, \"question\": query, \"tone\": tone})\n",
    "    print(\"Answer: \", response)"
   ]
  },
  {
   "cell_type": "markdown",
   "id": "abd68230-5290-4e52-b3b2-110585a8a6c3",
   "metadata": {},
   "source": [
    "### Exercise 5\n",
    "\n",
    "**Create an LCEL Chain with Custom Formatting**\n",
    "\n",
    "In this exercise, you'll create your own LCEL chain that uses prompt templates to build a custom application.\n",
    "\n",
    "**Task:** Create a product review analyzer that can:\n",
    "1. Identify the sentiment (positive, negative, or neutral).\n",
    "2. Extract mentioned product features.\n",
    "3. Provide a one-sentence summary of the review.\n",
    "\n",
    "**Steps:**\n",
    "1. Create a prompt template with placeholders for the review text.\n",
    "2. Build an LCEL chain that formats your prompt properly.\n",
    "3. Process the sample reviews and display the results.\n",
    "4. Try modifying the chain to change the output format.\n",
    "\n",
    "**Sample input:**\n",
    "```python\n",
    "reviews = [\n",
    "    \"I love this smartphone! The camera quality is exceptional and the battery lasts all day. The only downside is that it heats up a bit during gaming.\",\n",
    "    \"This laptop is terrible. It's slow, crashes frequently, and the keyboard stopped working after just two months. Customer service was unhelpful.\"\n",
    "]\n"
   ]
  },
  {
   "cell_type": "code",
   "execution_count": null,
   "id": "65d51d4d-11bf-49bd-adbc-56ef5d1e4118",
   "metadata": {},
   "outputs": [],
   "source": [
    "## Starter code: provide your solutions in the TODO parts\n",
    "from langchain_core.prompts import PromptTemplate\n",
    "from langchain_core.runnables import RunnableLambda\n",
    "from langchain_core.output_parsers import StrOutputParser\n",
    "\n",
    "# First initialize your LLM\n",
    "model_id = \"meta-llama/llama-3-3-70b-instruct\" ## Or you can use other LLMs available via watsonx.ai\n",
    "\n",
    "# Use these parameters\n",
    "parameters = {\n",
    "    GenParams.MAX_NEW_TOKENS: 512,  # this controls the maximum number of tokens in the generated output\n",
    "    GenParams.TEMPERATURE: 0.2, # this randomness or creativity of the model's responses\n",
    "}\n",
    "\n",
    "url = \"https://us-south.ml.cloud.ibm.com\"\n",
    "project_id = \"skills-network\"\n",
    "\n",
    "# TODO: Initialize your LLM\n",
    "llm = ## TODO\n",
    "\n",
    "# Here is an example template you can use\n",
    "template = \"\"\"\n",
    "Analyze the following product review:\n",
    "\"{review}\"\n",
    "\n",
    "Provide your analysis in the following format:\n",
    "- Sentiment: (positive, negative, or neutral)\n",
    "- Key Features Mentioned: (list the product features mentioned)\n",
    "- Summary: (one-sentence summary)\n",
    "\"\"\"\n",
    "\n",
    "# TODO: Create your prompt template\n",
    "product_review_prompt = ## TODO\n",
    "\n",
    "# TODO: Create a formatting function\n",
    "def format_review_prompt(variables):\n",
    "    # Your code here\n",
    "    pass\n",
    "\n",
    "# TODO: Build your LCEL chain\n",
    "review_analysis_chain = (\n",
    "    # Your code here\n",
    ")\n",
    "\n",
    "# Example reviews to process\n",
    "reviews = [\n",
    "    \"I love this smartphone! The camera quality is exceptional and the battery lasts all day. The only downside is that it heats up a bit during gaming.\",\n",
    "    \"This laptop is terrible. It's slow, crashes frequently, and the keyboard stopped working after just two months. Customer service was unhelpful.\"\n",
    "]\n",
    "\n",
    "# TODO: Process the reviews\n",
    "for review in reviews:\n",
    "    # Your code here\n",
    "    pass"
   ]
  },
  {
   "cell_type": "markdown",
   "id": "3364ff59-4bb4-4a60-a2a8-778e15e53edd",
   "metadata": {},
   "source": [
    "<details>\n",
    "    <summary>Click here for hints</summary>\n",
    "\n",
    "```python\n",
    "from langchain_core.prompts import PromptTemplate\n",
    "from langchain_core.runnables import RunnableLambda\n",
    "from langchain_core.output_parsers import StrOutputParser\n",
    "\n",
    "model_id = \"meta-llama/llama-3-3-70b-instruct\"\n",
    "\n",
    "parameters = {\n",
    "    GenParams.MAX_NEW_TOKENS: 512,  # this controls the maximum number of tokens in the generated output\n",
    "    GenParams.TEMPERATURE: 0.2, # this randomness or creativity of the model's responses\n",
    "}\n",
    "\n",
    "url = \"https://us-south.ml.cloud.ibm.com\"\n",
    "project_id = \"skills-network\"\n",
    "\n",
    "llm = WatsonxLLM(\n",
    "        model_id=model_id,\n",
    "        url=url,\n",
    "        project_id=project_id,\n",
    "        params=parameters\n",
    "    )\n",
    "\n",
    "# Create the prompt template\n",
    "template = \"\"\"\n",
    "Analyze the following product review:\n",
    "\"{review}\"\n",
    "\n",
    "Provide your analysis in the following format:\n",
    "- Sentiment: (positive, negative, or neutral)\n",
    "- Key Features Mentioned: (list the product features mentioned)\n",
    "- Summary: (one-sentence summary)\n",
    "\"\"\"\n",
    "\n",
    "product_review_prompt = PromptTemplate.from_template(template)\n",
    "\n",
    "# Create a formatting function\n",
    "def format_review_prompt(variables):\n",
    "    return product_review_prompt.format(**variables)\n",
    "\n",
    "# Build the LCEL chain\n",
    "review_analysis_chain = (\n",
    "    RunnableLambda(format_review_prompt)\n",
    "    | llm \n",
    "    | StrOutputParser()\n",
    ")\n",
    "\n",
    "# Process the reviews\n",
    "reviews = [\n",
    "    \"I love this smartphone! The camera quality is exceptional and the battery lasts all day. The only downside is that it heats up a bit during gaming.\",\n",
    "    \"This laptop is terrible. It's slow, crashes frequently, and the keyboard stopped working after just two months. Customer service was unhelpful.\"\n",
    "]\n",
    "\n",
    "for i, review in enumerate(reviews):\n",
    "    print(f\"==== Review #{i+1} ====\")\n",
    "    result = review_analysis_chain.invoke({\"review\": review})\n",
    "    print(result)\n",
    "    print()\n",
    "```\n",
    "</details>\n"
   ]
  },
  {
   "cell_type": "markdown",
   "id": "2e242381-a4ac-4e28-9e79-b8366e1741ce",
   "metadata": {},
   "source": [
    "## Conclusion\n",
    "\n",
    "Congratulations on completing this lab on prompt engineering and LangChain prompt templates! You've successfully navigated from basic prompting techniques to more advanced approaches including zero-shot, one-shot, few-shot learning, as well as chain-of-thought reasoning and self-consistency prompting. You then applied these concepts practically using LangChain's prompt templates with the modern LCEL pattern to create various applications.\n",
    "\n",
    "By learning how to properly structure prompts and build composable chains with the pipe operator (`|`), you've gained essential skills for developing robust LLM applications. These techniques provide a solid foundation for creating more complex systems and getting the most out of any language model you work with.\n"
   ]
  }
 ],
 "metadata": {
  "kernelspec": {
   "display_name": "Python 3 (ipykernel)",
   "language": "python",
   "name": "python3"
  },
  "language_info": {
   "codemirror_mode": {
    "name": "ipython",
    "version": 3
   },
   "file_extension": ".py",
   "mimetype": "text/x-python",
   "name": "python",
   "nbconvert_exporter": "python",
   "pygments_lexer": "ipython3",
   "version": "3.12.8"
  },
  "prev_pub_hash": "3532617ac9cd6b78ce75c2401c9a1d7c86e678a2e1734954abc3e32a631a66d7"
 },
 "nbformat": 4,
 "nbformat_minor": 4
}
